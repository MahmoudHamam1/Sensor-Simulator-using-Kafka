{
 "cells": [
  {
   "cell_type": "code",
   "execution_count": 1,
   "metadata": {},
   "outputs": [],
   "source": [
    "from kafka import KafkaConsumer\n",
    "from json import loads\n",
    "import pandas as pd\n",
    "import time"
   ]
  },
  {
   "cell_type": "code",
   "execution_count": 2,
   "metadata": {},
   "outputs": [
    {
     "data": {
      "text/html": [
       "<div>\n",
       "<style scoped>\n",
       "    .dataframe tbody tr th:only-of-type {\n",
       "        vertical-align: middle;\n",
       "    }\n",
       "\n",
       "    .dataframe tbody tr th {\n",
       "        vertical-align: top;\n",
       "    }\n",
       "\n",
       "    .dataframe thead th {\n",
       "        text-align: right;\n",
       "    }\n",
       "</style>\n",
       "<table border=\"1\" class=\"dataframe\">\n",
       "  <thead>\n",
       "    <tr style=\"text-align: right;\">\n",
       "      <th></th>\n",
       "      <th>temp</th>\n",
       "      <th>humadity</th>\n",
       "      <th>motion</th>\n",
       "      <th>hometype</th>\n",
       "      <th>commercial</th>\n",
       "      <th>level</th>\n",
       "      <th>date</th>\n",
       "      <th>power</th>\n",
       "    </tr>\n",
       "  </thead>\n",
       "  <tbody>\n",
       "  </tbody>\n",
       "</table>\n",
       "</div>"
      ],
      "text/plain": [
       "Empty DataFrame\n",
       "Columns: [temp, humadity, motion, hometype, commercial, level, date, power]\n",
       "Index: []"
      ]
     },
     "execution_count": 2,
     "metadata": {},
     "output_type": "execute_result"
    }
   ],
   "source": [
    "df=pd.DataFrame(columns=['temp','humadity','motion','hometype','commercial','level','date','power'])\n",
    "df.to_csv(\"data.csv\",index=False)\n",
    "df.head()"
   ]
  },
  {
   "cell_type": "code",
   "execution_count": 3,
   "metadata": {},
   "outputs": [],
   "source": [
    "count=0\n",
    "def saveToDF(data):\n",
    "#     df=pd.read_csv(\"data.csv\")\n",
    "#     df.add(pd.DataFrame(data=data))\n",
    "#     print(df.head())\n",
    "#    df.to_csv(\"data.csv\")\n",
    "    f=open(\"data.csv\",'a')\n",
    "    f.write(data)\n",
    "    f.close()\n",
    "    \n",
    "    \n",
    "def preprocess(data):\n",
    "    data=data.replace(';',',')\n",
    "    return data+'\\n'#{'temp':data[0],'humadity':data[1],'motion':data[2],'hometype':data[3],'commercial':data[4],'level':data[5],'date':data[6],'power':data[7]}"
   ]
  },
  {
   "cell_type": "code",
   "execution_count": 4,
   "metadata": {},
   "outputs": [],
   "source": [
    "consumer = KafkaConsumer(\n",
    "    'numtest',\n",
    "     bootstrap_servers=['localhost:9092'],\n",
    "     auto_offset_reset='earliest',\n",
    "     enable_auto_commit=True,\n",
    "     group_id='my-group',\n",
    "     value_deserializer=lambda x: loads(x.decode('utf-8')))"
   ]
  },
  {
   "cell_type": "code",
   "execution_count": null,
   "metadata": {},
   "outputs": [
    {
     "name": "stdout",
     "output_type": "stream",
     "text": [
      "60,30,72,flat,yes,1,2019/3/20,8:45:48,236520253.677\n",
      "\n",
      "47,54,54,flat,yes,1,2019/3/20,10:15:37,827800088.263\n",
      "\n",
      "60,69,44,flat,no,4,2019/3/20,10:15:42,361423861.774\n",
      "\n",
      "60,82,42,villa,no,4,2019/3/20,10:15:47,644420547.124\n",
      "\n",
      "85,54,37,villa,yes,1,2019/3/20,13:33:10,515782640.525\n",
      "\n",
      "41,79,63,villa,yes,3,2019/3/20,13:33:15,516707235.105\n",
      "\n",
      "43,65,96,villa,yes,1,2019/3/20,13:33:20,309129551.293\n",
      "\n",
      "86,74,52,flat,no,1,2019/3/20,13:33:25,980310922.187\n",
      "\n",
      "87,22,58,villa,yes,4,2019/3/20,13:33:26,925896392.354\n",
      "\n",
      "45,46,82,villa,no,4,2019/3/20,13:33:30,153979391.917\n",
      "\n",
      "52,74,38,flat,yes,4,2019/3/20,13:33:31,633517486.378\n",
      "\n"
     ]
    }
   ],
   "source": [
    "for message in consumer:\n",
    "    print(preprocess(message.value))\n",
    "    saveToDF(preprocess(message.value))"
   ]
  },
  {
   "cell_type": "code",
   "execution_count": null,
   "metadata": {},
   "outputs": [],
   "source": []
  },
  {
   "cell_type": "code",
   "execution_count": null,
   "metadata": {},
   "outputs": [],
   "source": []
  },
  {
   "cell_type": "code",
   "execution_count": null,
   "metadata": {},
   "outputs": [],
   "source": [
    "for message in consumer:    \n",
    "    print('{} '.format(message.value))"
   ]
  },
  {
   "cell_type": "code",
   "execution_count": null,
   "metadata": {},
   "outputs": [],
   "source": []
  }
 ],
 "metadata": {
  "kernelspec": {
   "display_name": "Python 3",
   "language": "python",
   "name": "python3"
  },
  "language_info": {
   "codemirror_mode": {
    "name": "ipython",
    "version": 3
   },
   "file_extension": ".py",
   "mimetype": "text/x-python",
   "name": "python",
   "nbconvert_exporter": "python",
   "pygments_lexer": "ipython3",
   "version": "3.6.5"
  }
 },
 "nbformat": 4,
 "nbformat_minor": 2
}
